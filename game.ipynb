{
 "cells": [
  {
   "cell_type": "code",
   "execution_count": 1,
   "metadata": {
    "collapsed": true
   },
   "outputs": [],
   "source": [
    "import ipywidgets as w"
   ]
  },
  {
   "cell_type": "code",
   "execution_count": 2,
   "metadata": {},
   "outputs": [],
   "source": [
    "name = w.Text(value=\"Lola\",\n",
    "              placeholder='Lola', \n",
    "              description=\"What's your name?\")"
   ]
  },
  {
   "cell_type": "code",
   "execution_count": 3,
   "metadata": {},
   "outputs": [
    {
     "data": {
      "application/vnd.jupyter.widget-view+json": {
       "model_id": "1dc92c21da2447568087dd35cbeb338f"
      }
     },
     "metadata": {},
     "output_type": "display_data"
    }
   ],
   "source": [
    "name"
   ]
  },
  {
   "cell_type": "code",
   "execution_count": 4,
   "metadata": {},
   "outputs": [
    {
     "data": {
      "text/plain": [
       "'hilary'"
      ]
     },
     "execution_count": 4,
     "metadata": {},
     "output_type": "execute_result"
    }
   ],
   "source": [
    "name.value"
   ]
  },
  {
   "cell_type": "code",
   "execution_count": 5,
   "metadata": {},
   "outputs": [
    {
     "name": "stdout",
     "output_type": "stream",
     "text": [
      "hilary you are in a mysterious place\n"
     ]
    }
   ],
   "source": [
    "print('{} you are in a mysterious place'.format(name.value))"
   ]
  },
  {
   "cell_type": "code",
   "execution_count": 6,
   "metadata": {},
   "outputs": [
    {
     "name": "stdout",
     "output_type": "stream",
     "text": [
      "In front of you, hilary, are three rooms, you must choose one\n"
     ]
    }
   ],
   "source": [
    "print('In front of you, {}, are three rooms, you must choose one'.format(name.value))"
   ]
  },
  {
   "cell_type": "code",
   "execution_count": 7,
   "metadata": {
    "collapsed": true
   },
   "outputs": [],
   "source": [
    "room = w.IntSlider(min=1, max=3)"
   ]
  },
  {
   "cell_type": "code",
   "execution_count": 8,
   "metadata": {},
   "outputs": [],
   "source": [
    "def firstchoice():\n",
    "    if room.value == 1:\n",
    "        print(\"There is an evil unicorn in this room\" +\n",
    "              \" that attacks and kills you! Game over.\")\n",
    "    elif room.value == 2:\n",
    "        print('There is a sleeping griffin in this room.' +\n",
    "             'You can try to sneak by or tame it. Which do you choose?')\n",
    "    elif room.value == 3:\n",
    "        print(\"There is a wand with a unicorn on it.\" +\n",
    "              \"What do you want to do?\")"
   ]
  },
  {
   "cell_type": "code",
   "execution_count": 9,
   "metadata": {},
   "outputs": [
    {
     "data": {
      "application/vnd.jupyter.widget-view+json": {
       "model_id": "8d633dcc31b64cdeb58d1b8091e172d8"
      }
     },
     "metadata": {},
     "output_type": "display_data"
    }
   ],
   "source": [
    "room"
   ]
  },
  {
   "cell_type": "code",
   "execution_count": 12,
   "metadata": {},
   "outputs": [
    {
     "name": "stdout",
     "output_type": "stream",
     "text": [
      "There is a wand with a unicorn on it.What do you want to do?\n"
     ]
    }
   ],
   "source": [
    "if room.value == 1:\n",
    "    print(\"There is an evil unicorn in this room\" +\n",
    "          \" that attacks and kills you! Game over.\")\n",
    "elif room.value == 2:\n",
    "    print('There is a sleeping griffin in this room.' +\n",
    "         'You can try to sneak by or tame it. Which do you choose?')\n",
    "elif room.value == 3:\n",
    "    print(\"There is a wand with a unicorn on it.\" +\n",
    "          \"What do you want to do?\")"
   ]
  },
  {
   "cell_type": "code",
   "execution_count": null,
   "metadata": {},
   "outputs": [],
   "source": [
    "#room.observe(firstchoice)"
   ]
  },
  {
   "cell_type": "code",
   "execution_count": null,
   "metadata": {
    "collapsed": true
   },
   "outputs": [],
   "source": []
  }
 ],
 "metadata": {
  "kernelspec": {
   "display_name": "Python 3",
   "language": "python",
   "name": "python3"
  },
  "language_info": {
   "codemirror_mode": {
    "name": "ipython",
    "version": 3
   },
   "file_extension": ".py",
   "mimetype": "text/x-python",
   "name": "python",
   "nbconvert_exporter": "python",
   "pygments_lexer": "ipython3",
   "version": "3.6.1"
  }
 },
 "nbformat": 4,
 "nbformat_minor": 2
}
